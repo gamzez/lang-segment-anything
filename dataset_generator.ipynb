{
 "cells": [
  {
   "cell_type": "code",
   "execution_count": 5,
   "metadata": {},
   "outputs": [
    {
     "name": "stderr",
     "output_type": "stream",
     "text": [
      "/Users/gamze/anaconda3/envs/data_analysis/lib/python3.9/site-packages/tqdm/auto.py:21: TqdmWarning: IProgress not found. Please update jupyter and ipywidgets. See https://ipywidgets.readthedocs.io/en/stable/user_install.html\n",
      "  from .autonotebook import tqdm as notebook_tqdm\n",
      "/Users/gamze/anaconda3/envs/data_analysis/lib/python3.9/site-packages/groundingdino/models/GroundingDINO/ms_deform_attn.py:31: UserWarning: Failed to load custom C++ ops. Running on CPU mode Only!\n",
      "  warnings.warn(\"Failed to load custom C++ ops. Running on CPU mode Only!\")\n"
     ]
    }
   ],
   "source": [
    "import warnings\n",
    "import numpy as np\n",
    "import matplotlib.pyplot as plt\n",
    "import requests\n",
    "from PIL import Image\n",
    "from io import BytesIO\n",
    "from lang_sam import LangSAM\n",
    "import os\n",
    "\n",
    "def save_mask(mask_np, filename):\n",
    "    mask_image = Image.fromarray((mask_np * 255).astype(np.uint8))\n",
    "    mask_image.save(filename)\n",
    "\n",
    "def print_bounding_boxes(boxes):\n",
    "    print(\"Bounding Boxes:\")\n",
    "    for i, box in enumerate(boxes):\n",
    "        print(f\"Box {i+1}: {box}\")\n",
    "\n",
    "def print_detected_phrases(phrases):\n",
    "    print(\"\\nDetected Phrases:\")\n",
    "    for i, phrase in enumerate(phrases):\n",
    "        print(f\"Phrase {i+1}: {phrase}\")\n",
    "\n",
    "def print_logits(logits):\n",
    "    print(\"\\nConfidence:\")\n",
    "    for i, logit in enumerate(logits):\n",
    "        print(f\"Logit {i+1}: {logit}\")\n",
    "\n",
    "def find_coin_masks(image):\n",
    "    # Suppress warning messages\n",
    "    warnings.filterwarnings(\"ignore\")\n",
    "    text_prompt = \"coin\"\n",
    "    try:\n",
    "        model = LangSAM()\n",
    "        masks, boxes, phrases, logits = model.predict(image, text_prompt)\n",
    "\n",
    "        if len(masks) == 0:\n",
    "            print(f\"No objects of the '{text_prompt}' prompt detected in the image.\")\n",
    "        else:\n",
    "            # Convert masks to numpy arrays\n",
    "            masks_np = [mask.squeeze().cpu().numpy() for mask in masks]\n",
    "            return masks_np\n",
    "\n",
    "    except (requests.exceptions.RequestException, IOError) as e:\n",
    "        print(f\"Error: {e}\")\n",
    "\n",
    "# returns y_min, y_max, x_min, x_max\n",
    "def find_boundary_of_coin(nonzero_indices):\n",
    "    return nonzero_indices[0,:].min(), nonzero_indices[0,:].max(), nonzero_indices[1,:].min(), nonzero_indices[1,:].max()\n",
    "\n",
    "def generate_coin_images(image_dir):\n",
    "    image = Image.open(image_dir).convert(\"RGB\")\n",
    "    masks = find_coin_masks(image)\n",
    "    image = np.array(image)\n",
    "    coins = []\n",
    "    for index in range(len(masks)):\n",
    "        mask = np.broadcast_to(np.expand_dims(masks[index],-1), image.shape)\n",
    "        masked_image = mask * image\n",
    "        nonzero_indices = np.nonzero(masked_image[:,:,0])\n",
    "        nonzero_indices = np.array(nonzero_indices)\n",
    "        y_min, y_max, x_min, x_max = find_boundary_of_coin(nonzero_indices)\n",
    "        masked_image = masked_image[y_min:y_max,x_min:x_max]\n",
    "        difference_y = 500 - (y_max - y_min)\n",
    "        difference_x = 500 - (x_max - x_min)\n",
    "        if difference_y != 0:\n",
    "            if difference_y % 2 == 0:\n",
    "                masked_image = np.pad(masked_image, [(difference_y//2, difference_y//2), (0, 0), (0, 0)])\n",
    "            else:\n",
    "                masked_image = np.pad(masked_image, [((difference_y-1)//2, (difference_y-1)//2 + 1), (0, 0), (0, 0)])\n",
    "        if difference_x != 0:\n",
    "            if difference_x % 2 == 0:\n",
    "                masked_image = np.pad(masked_image, [(0, 0), (difference_x//2, difference_x//2), (0, 0)])\n",
    "            else:\n",
    "                masked_image = np.pad(masked_image, [(0, 0), ((difference_x-1)//2, (difference_x-1)//2 + 1), (0, 0)])\n",
    "        coins.append(masked_image)\n",
    "    return coins\n"
   ]
  },
  {
   "cell_type": "code",
   "execution_count": 10,
   "metadata": {},
   "outputs": [
    {
     "data": {
      "text/plain": [
       "['10c', '50c', '20c', '5c', '1e', '2e']"
      ]
     },
     "execution_count": 10,
     "metadata": {},
     "output_type": "execute_result"
    }
   ],
   "source": [
    "## find subfolder names in a folder\n",
    "dataset_dir = \"coin_images/\"\n",
    "subfolders = os.listdir(dataset_dir)\n",
    "if '.DS_Store' in subfolders:\n",
    "    subfolders.remove('.DS_Store')\n",
    "subfolders"
   ]
  },
  {
   "cell_type": "code",
   "execution_count": 9,
   "metadata": {},
   "outputs": [
    {
     "data": {
      "text/plain": [
       "['IMG_4198.JPG', 'IMG_4199.JPG', 'IMG_4200.JPG', 'IMG_4197.JPG']"
      ]
     },
     "execution_count": 9,
     "metadata": {},
     "output_type": "execute_result"
    }
   ],
   "source": [
    "## find filenames in a folder\n",
    "dataset_dir = \"coin_images/1e/\"\n",
    "image_names = os.listdir(dataset_dir)\n",
    "if '.DS_Store' in subfolders:\n",
    "    image_names.remove('.DS_Store')\n",
    "image_names"
   ]
  },
  {
   "cell_type": "code",
   "execution_count": 13,
   "metadata": {},
   "outputs": [
    {
     "data": {
      "text/plain": [
       "'padded_coin_images/10c/img.png'"
      ]
     },
     "execution_count": 13,
     "metadata": {},
     "output_type": "execute_result"
    }
   ],
   "source": [
    "## concat directoriess\n",
    "output_dir = \"padded_coin_images/\"\n",
    "subfolder = os.path.join(output_dir, subfolders[0], 'img.png')\n"
   ]
  },
  {
   "cell_type": "code",
   "execution_count": 6,
   "metadata": {},
   "outputs": [
    {
     "ename": "NameError",
     "evalue": "name 'output_dir' is not defined",
     "output_type": "error",
     "traceback": [
      "\u001b[0;31m---------------------------------------------------------------------------\u001b[0m",
      "\u001b[0;31mNameError\u001b[0m                                 Traceback (most recent call last)",
      "Cell \u001b[0;32mIn[6], line 4\u001b[0m\n\u001b[1;32m      2\u001b[0m visual \u001b[39m=\u001b[39m \u001b[39m255\u001b[39m \u001b[39m*\u001b[39m np\u001b[39m.\u001b[39mones((\u001b[39m500\u001b[39m,\u001b[39m500\u001b[39m))\n\u001b[1;32m      3\u001b[0m image \u001b[39m=\u001b[39m Image\u001b[39m.\u001b[39mfromarray((visual)\u001b[39m.\u001b[39mastype(np\u001b[39m.\u001b[39muint8))\n\u001b[0;32m----> 4\u001b[0m last_index \u001b[39m=\u001b[39m find_last_index(os\u001b[39m.\u001b[39mpath\u001b[39m.\u001b[39mjoin(output_dir, subfolders[\u001b[39m0\u001b[39m]))\n\u001b[1;32m      5\u001b[0m image_name \u001b[39m=\u001b[39m \u001b[39mf\u001b[39m\u001b[39m\"\u001b[39m\u001b[39mimg_\u001b[39m\u001b[39m{\u001b[39;00mlast_index\u001b[39m+\u001b[39m\u001b[39m1\u001b[39m\u001b[39m}\u001b[39;00m\u001b[39m.png\u001b[39m\u001b[39m\"\u001b[39m\n\u001b[1;32m      6\u001b[0m subfolder \u001b[39m=\u001b[39m os\u001b[39m.\u001b[39mpath\u001b[39m.\u001b[39mjoin(output_dir, subfolders[\u001b[39m0\u001b[39m], image_name)\n",
      "\u001b[0;31mNameError\u001b[0m: name 'output_dir' is not defined"
     ]
    }
   ],
   "source": [
    "## image save etme\n",
    "visual = 255 * np.ones((500,500))\n",
    "image = Image.fromarray((visual).astype(np.uint8))\n",
    "last_index = find_last_index(os.path.join(output_dir, subfolders[0]))\n",
    "image_name = f\"img_{last_index+1}.png\"\n",
    "subfolder = os.path.join(output_dir, subfolders[0], image_name)\n",
    "image.save(subfolder)"
   ]
  },
  {
   "cell_type": "code",
   "execution_count": 3,
   "metadata": {},
   "outputs": [],
   "source": [
    "strings = ['img_1.png','img_78.png','img_0.png','img_55.png']\n",
    "def find_last_index(strings):\n",
    "    max_index = 0\n",
    "    for string in strings: \n",
    "        index = int(string.replace('img_','').replace('.png',''))\n",
    "        if index > max_index:\n",
    "            max_index = index\n",
    "    return max_index\n",
    "max_index = find_last_index(strings)\n"
   ]
  }
 ],
 "metadata": {
  "kernelspec": {
   "display_name": "lsa",
   "language": "python",
   "name": "python3"
  },
  "language_info": {
   "codemirror_mode": {
    "name": "ipython",
    "version": 3
   },
   "file_extension": ".py",
   "mimetype": "text/x-python",
   "name": "python",
   "nbconvert_exporter": "python",
   "pygments_lexer": "ipython3",
   "version": "3.9.16"
  },
  "orig_nbformat": 4
 },
 "nbformat": 4,
 "nbformat_minor": 2
}
