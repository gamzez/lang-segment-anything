{
 "cells": [
  {
   "cell_type": "code",
   "execution_count": 3,
   "metadata": {},
   "outputs": [],
   "source": [
    "import warnings\n",
    "import numpy as np\n",
    "import matplotlib.pyplot as plt\n",
    "import requests\n",
    "from PIL import Image\n",
    "from io import BytesIO\n",
    "from lang_sam import LangSAM\n",
    "import os\n",
    "import torch\n",
    "import torch.nn as nn\n",
    "import torch.optim as optim\n",
    "import torchvision\n",
    "from torchvision import transforms\n",
    "from torch.utils.data import DataLoader\n",
    "from tqdm import tqdm\n",
    "from lang_sam.utils import display_coins_with_boxes, find_coin_masks, find_boundary_of_coin, generate_coin_images\n",
    "from coin_estimator.model import CoinClassifier\n",
    "device = torch.device(\"mps\")"
   ]
  },
  {
   "cell_type": "code",
   "execution_count": 2,
   "metadata": {},
   "outputs": [
    {
     "data": {
      "text/plain": [
       "CoinClassifier(\n",
       "  (features): Sequential(\n",
       "    (0): Conv2d(3, 64, kernel_size=(3, 3), stride=(2, 2), padding=(1, 1))\n",
       "    (1): ReLU()\n",
       "    (2): Conv2d(64, 128, kernel_size=(3, 3), stride=(2, 2), padding=(1, 1))\n",
       "    (3): ReLU()\n",
       "    (4): Conv2d(128, 256, kernel_size=(3, 3), stride=(2, 2), padding=(1, 1))\n",
       "    (5): ReLU()\n",
       "    (6): Conv2d(256, 512, kernel_size=(3, 3), stride=(2, 2), padding=(1, 1))\n",
       "    (7): ReLU()\n",
       "    (8): Conv2d(512, 512, kernel_size=(3, 3), stride=(2, 2), padding=(1, 1))\n",
       "    (9): ReLU()\n",
       "    (10): Conv2d(512, 512, kernel_size=(3, 3), stride=(2, 2), padding=(1, 1))\n",
       "    (11): ReLU()\n",
       "  )\n",
       "  (classifier): Sequential(\n",
       "    (0): Flatten(start_dim=1, end_dim=-1)\n",
       "    (1): Linear(in_features=32768, out_features=256, bias=True)\n",
       "    (2): ReLU()\n",
       "    (3): Linear(in_features=256, out_features=6, bias=True)\n",
       "    (4): Softmax(dim=1)\n",
       "  )\n",
       ")"
      ]
     },
     "execution_count": 2,
     "metadata": {},
     "output_type": "execute_result"
    }
   ],
   "source": [
    "device = torch.device(\"mps\")\n",
    "model = CoinClassifier().to(device)\n",
    "model.load_state_dict(torch.load(\"coin_estimator.pth\", map_location=torch.device('mps')))\n",
    "model.eval()"
   ]
  },
  {
   "cell_type": "code",
   "execution_count": 4,
   "metadata": {},
   "outputs": [
    {
     "name": "stdout",
     "output_type": "stream",
     "text": [
      "final text_encoder_type: bert-base-uncased\n"
     ]
    },
    {
     "name": "stderr",
     "output_type": "stream",
     "text": [
      "Some weights of the model checkpoint at bert-base-uncased were not used when initializing BertModel: ['cls.predictions.transform.LayerNorm.bias', 'cls.predictions.bias', 'cls.predictions.transform.LayerNorm.weight', 'cls.predictions.transform.dense.weight', 'cls.seq_relationship.weight', 'cls.seq_relationship.bias', 'cls.predictions.transform.dense.bias']\n",
      "- This IS expected if you are initializing BertModel from the checkpoint of a model trained on another task or with another architecture (e.g. initializing a BertForSequenceClassification model from a BertForPreTraining model).\n",
      "- This IS NOT expected if you are initializing BertModel from the checkpoint of a model that you expect to be exactly identical (initializing a BertForSequenceClassification model from a BertForSequenceClassification model).\n"
     ]
    },
    {
     "name": "stdout",
     "output_type": "stream",
     "text": [
      "Model loaded from /Users/gamze/.cache/huggingface/hub/models--ShilongLiu--GroundingDINO/snapshots/a94c9b567a2a374598f05c584e96798a170c56fb/groundingdino_swinb_cogcoor.pth \n",
      " => _IncompatibleKeys(missing_keys=[], unexpected_keys=['label_enc.weight'])\n",
      "coin estimated\n",
      "coin estimated\n",
      "coin estimated\n",
      "coin estimated\n",
      "coin estimated\n",
      "coin estimated\n",
      "coin estimated\n",
      "coin estimated\n",
      "coin estimated\n",
      "coin estimated\n",
      "coin estimated\n",
      "coin estimated\n",
      "coin estimated\n",
      "coin estimated\n",
      "coin estimated\n",
      "coin estimated\n",
      "coin estimated\n",
      "coin estimated\n",
      "coin estimated\n",
      "coin estimated\n",
      "coin estimated\n",
      "coin estimated\n",
      "coin estimated\n",
      "coin estimated\n",
      "coin estimated\n",
      "coin estimated\n",
      "coin estimated\n",
      "coin estimated\n",
      "coin estimated\n",
      "coin estimated\n",
      "coin estimated\n",
      "coin estimated\n",
      "coin estimated\n",
      "coin estimated\n",
      "coin estimated\n",
      "coin estimated\n",
      "coin estimated\n",
      "coin estimated\n"
     ]
    }
   ],
   "source": [
    "image_dir = \"assets/coin7.JPG\"\n",
    "coins, boxes = generate_coin_images(image_dir)\n",
    "predictions = []\n",
    "for coin in coins:\n",
    "    coin_normalized= (((coin-coin.min())/coin.max())-0.5)*2\n",
    "    coin_normalized = np.transpose(coin_normalized,(2,0,1))\n",
    "    coin_normalized = np.expand_dims(coin_normalized,0).astype(np.float32)\n",
    "    coin_tensor = torch.from_numpy(coin_normalized)\n",
    "    outputs = model(coin_tensor.to(device))\n",
    "    _, prediction = torch.max(outputs.data, 1)  # Get index of max value\n",
    "    predictions.append(prediction)\n",
    "    print(\"coin estimated\")"
   ]
  },
  {
   "cell_type": "code",
   "execution_count": null,
   "metadata": {},
   "outputs": [],
   "source": [
    "predictions_np = np.zeros((len(coins)))\n",
    "for i in range(len(coins)):\n",
    "    predictions_np[i] = predictions[i].detach().cpu().numpy()\n"
   ]
  },
  {
   "cell_type": "code",
   "execution_count": null,
   "metadata": {},
   "outputs": [],
   "source": [
    "image = Image.open(image_dir).convert(\"RGB\")\n",
    "display_coins_with_boxes(image, boxes, predictions, classes)"
   ]
  },
  {
   "cell_type": "code",
   "execution_count": null,
   "metadata": {},
   "outputs": [],
   "source": [
    "classes = ['10 cents', '1 euro', '20 cents', '2 euros', '50 cents', '5 cents']\n",
    "classes[0]"
   ]
  },
  {
   "cell_type": "code",
   "execution_count": null,
   "metadata": {},
   "outputs": [],
   "source": [
    "predictions"
   ]
  }
 ],
 "metadata": {
  "kernelspec": {
   "display_name": "data_analysis",
   "language": "python",
   "name": "python3"
  },
  "language_info": {
   "codemirror_mode": {
    "name": "ipython",
    "version": 3
   },
   "file_extension": ".py",
   "mimetype": "text/x-python",
   "name": "python",
   "nbconvert_exporter": "python",
   "pygments_lexer": "ipython3",
   "version": "3.9.16"
  },
  "orig_nbformat": 4
 },
 "nbformat": 4,
 "nbformat_minor": 2
}
